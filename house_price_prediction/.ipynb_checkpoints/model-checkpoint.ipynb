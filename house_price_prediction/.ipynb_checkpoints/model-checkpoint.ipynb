{
 "cells": [
  {
   "cell_type": "code",
   "execution_count": 1,
   "id": "26d85308-139d-4a46-8f4b-94b475849535",
   "metadata": {},
   "outputs": [],
   "source": [
    "import numpy as np\n",
    "import pandas as pd"
   ]
  },
  {
   "cell_type": "code",
   "execution_count": 16,
   "id": "1192dbef-d240-4f22-88c6-ece7d8741f84",
   "metadata": {},
   "outputs": [],
   "source": [
    "# fetching data from files\n",
    "df = pd.read_csv(\"housing_prices.csv\")"
   ]
  },
  {
   "cell_type": "code",
   "execution_count": 17,
   "id": "a458cef7-c8f0-446a-9ffd-de4291258646",
   "metadata": {},
   "outputs": [
    {
     "name": "stdout",
     "output_type": "stream",
     "text": [
      "[35.30561938]\n",
      "[1.66000000e+03 4.00000000e+00 1.00000000e+00 1.37707182e+00\n",
      " 9.70000000e+01 5.39145006e+00]\n"
     ]
    }
   ],
   "source": [
    "# extracting xi and yi\n",
    "Y = df[\"Price\"].to_numpy().reshape(-1, 1) / 10000\n",
    "X = df.drop(columns=[\"Price\"]).to_numpy()\n",
    "print(Y[0])\n",
    "print(X[0])"
   ]
  },
  {
   "cell_type": "code",
   "execution_count": 18,
   "id": "e093713b-fe8f-4bfa-8428-d0121a34e9a5",
   "metadata": {},
   "outputs": [
    {
     "name": "stdout",
     "output_type": "stream",
     "text": [
      "[1.00000000e+00 1.66000000e+03 4.00000000e+00 1.00000000e+00\n",
      " 1.37707182e+00 9.70000000e+01 5.39145006e+00]\n"
     ]
    }
   ],
   "source": [
    "# adding bias term to the feature vectors\n",
    "X_bias = np.c_[np.ones((len(X), 1)), X]\n",
    "print(X_bias[0])"
   ]
  },
  {
   "cell_type": "code",
   "execution_count": 37,
   "id": "d1323202-5b9e-45be-ad35-0df3559b9d03",
   "metadata": {},
   "outputs": [
    {
     "name": "stdout",
     "output_type": "stream",
     "text": [
      "[[0.27540546]\n",
      " [0.4665801 ]\n",
      " [0.52334363]\n",
      " [0.93944542]\n",
      " [0.94420795]\n",
      " [0.85979642]\n",
      " [0.67275847]]\n"
     ]
    }
   ],
   "source": [
    "# defining parameter vector\n",
    "theta = np.random.rand(len(X_bias[0])).reshape(-1, 1)\n",
    "print(theta)"
   ]
  },
  {
   "cell_type": "code",
   "execution_count": 38,
   "id": "2ddb4677-5bae-45d9-8f1b-7aa823d2ad29",
   "metadata": {},
   "outputs": [],
   "source": [
    "# defining hyperparameters\n",
    "learning_rate = 0.00000000001\n",
    "epoch = 100"
   ]
  },
  {
   "cell_type": "code",
   "execution_count": 39,
   "id": "c59be7d3-baa7-4a3a-b81c-2ddf2e49dcb0",
   "metadata": {},
   "outputs": [],
   "source": [
    "# defining hypothesis\n",
    "def hypo(theta, X):\n",
    "    return X @ theta"
   ]
  },
  {
   "cell_type": "code",
   "execution_count": 40,
   "id": "2cc1e786-79f1-4d33-b98c-ad14dd8fc9ce",
   "metadata": {
    "scrolled": true
   },
   "outputs": [
    {
     "name": "stdout",
     "output_type": "stream",
     "text": [
      "-0.3732251188840873\n"
     ]
    }
   ],
   "source": [
    "# BGD\n",
    "learning_rate = 0.000000001\n",
    "theta_b = theta\n",
    "\n",
    "for _ in range(epoch):\n",
    "    error = (Y - hypo(theta_b, X_bias))\n",
    "    gradient = (1/len(X_bias)) * (X_bias.T @ error)\n",
    "    theta_b = theta_b - learning_rate * gradient\n",
    "\n",
    "theta_ne = np.linalg.inv(X_bias.T @ X_bias) @ (X_bias.T @ Y)\n",
    "\n",
    "print(np.mean(theta_b - theta_ne))"
   ]
  },
  {
   "cell_type": "code",
   "execution_count": 9,
   "id": "859e40df-95b5-4733-afde-fac97e0212e8",
   "metadata": {},
   "outputs": [
    {
     "name": "stdout",
     "output_type": "stream",
     "text": [
      "[[0.85379862]\n",
      " [0.01166994]\n",
      " [0.06766077]\n",
      " [0.34706964]\n",
      " [0.28035263]\n",
      " [0.09650293]\n",
      " [0.73000954]]\n"
     ]
    }
   ],
   "source": [
    "# SGD\n",
    "theta_s = theta\n",
    "\n",
    "for _ in range(epoch):\n",
    "    for i in range(len(X_bias)):\n",
    "        xi = X_bias[i:i+1]\n",
    "        yi = Y[i]\n",
    "        error = yi - hypo(theta_s, xi)\n",
    "        gradient = -xi.T * error \n",
    "        theta_s = theta_s - learning_rate * gradient \n",
    "\n",
    "print(theta_s)"
   ]
  },
  {
   "cell_type": "code",
   "execution_count": 10,
   "id": "2246e21b-ff09-44a1-a84d-0cc18aece6b5",
   "metadata": {},
   "outputs": [
    {
     "name": "stdout",
     "output_type": "stream",
     "text": [
      "[[0.85403996]\n",
      " [0.7775954 ]\n",
      " [0.06836163]\n",
      " [0.34754347]\n",
      " [0.28058795]\n",
      " [0.1094356 ]\n",
      " [0.73437123]]\n"
     ]
    }
   ],
   "source": [
    "# Normal Equation\n",
    "theta_ne = np.linalg.inv(X_bias.T @ X_bias) @ (X_bias.T @ Y)\n",
    "print(theta)"
   ]
  },
  {
   "cell_type": "code",
   "execution_count": 11,
   "id": "c7c5fc73-c84e-4f59-a441-f1e21395c10d",
   "metadata": {},
   "outputs": [
    {
     "name": "stdout",
     "output_type": "stream",
     "text": [
      "Normal Equation:  -0.15134502064842278\n",
      "SGD:  -2.0010578880826047\n",
      "BGD:  -2196.1083701379307\n"
     ]
    }
   ],
   "source": [
    "# fetching test set\n",
    "df_test = pd.read_csv(\"housing_prices_test.csv\")\n",
    "Y = df_test[\"Price\"].to_numpy().reshape(-1, 1)\n",
    "X_test = df_test.drop(columns=[\"Price\"]).to_numpy()\n",
    "X_test = np.c_[np.ones((len(X_test), 1)), X_test]\n",
    "print(\"Normal Equation: \", np.mean((Y/10000) - hypo(theta_ne, X_test)))\n",
    "print(\"SGD: \", np.mean((Y/10000) - hypo(theta_s, X_test)))\n",
    "print(\"BGD: \", np.mean((Y/10000) - hypo(theta_b, X_test)))"
   ]
  },
  {
   "cell_type": "code",
   "execution_count": null,
   "id": "d6ad119c-4082-49f4-890e-8563caad6c89",
   "metadata": {},
   "outputs": [],
   "source": []
  }
 ],
 "metadata": {
  "kernelspec": {
   "display_name": "Python 3 (ipykernel)",
   "language": "python",
   "name": "python3"
  },
  "language_info": {
   "codemirror_mode": {
    "name": "ipython",
    "version": 3
   },
   "file_extension": ".py",
   "mimetype": "text/x-python",
   "name": "python",
   "nbconvert_exporter": "python",
   "pygments_lexer": "ipython3",
   "version": "3.13.2"
  }
 },
 "nbformat": 4,
 "nbformat_minor": 5
}
