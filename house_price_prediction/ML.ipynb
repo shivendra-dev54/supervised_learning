{
 "cells": [
  {
   "cell_type": "code",
   "execution_count": 118,
   "metadata": {
    "executionInfo": {
     "elapsed": 5,
     "status": "ok",
     "timestamp": 1742319766652,
     "user": {
      "displayName": "Shivendra Devadhe",
      "userId": "17542011610081090060"
     },
     "user_tz": -330
    },
    "id": "ZeDTpExVSoJ8"
   },
   "outputs": [],
   "source": [
    "import numpy as np\n",
    "import pandas as pd"
   ]
  },
  {
   "cell_type": "code",
   "execution_count": 119,
   "metadata": {
    "executionInfo": {
     "elapsed": 21,
     "status": "ok",
     "timestamp": 1742319766847,
     "user": {
      "displayName": "Shivendra Devadhe",
      "userId": "17542011610081090060"
     },
     "user_tz": -330
    },
    "id": "Dd58myJBTmP7"
   },
   "outputs": [],
   "source": [
    "# fetching data from files\n",
    "df = pd.read_csv(\"/content/drive/MyDrive/ML/house_price/housing_prices.csv\")"
   ]
  },
  {
   "cell_type": "code",
   "execution_count": 120,
   "metadata": {
    "colab": {
     "base_uri": "https://localhost:8080/"
    },
    "executionInfo": {
     "elapsed": 28,
     "status": "ok",
     "timestamp": 1742319767021,
     "user": {
      "displayName": "Shivendra Devadhe",
      "userId": "17542011610081090060"
     },
     "user_tz": -330
    },
    "id": "ls3SHg5fTmZQ",
    "outputId": "e6abea05-09d5-47b8-9efd-a8e7cb0caf40"
   },
   "outputs": [
    {
     "name": "stdout",
     "output_type": "stream",
     "text": [
      "[35.30561938]\n",
      "[1.66000000e+03 4.00000000e+00 1.00000000e+00 1.37707182e+00\n",
      " 9.70000000e+01 5.39145006e+00]\n"
     ]
    }
   ],
   "source": [
    "# extracting xi and yi\n",
    "Y = df[\"Price\"].to_numpy().reshape(-1, 1) / 10000\n",
    "X = df.drop(columns=[\"Price\"]).to_numpy()\n",
    "print(Y[0])\n",
    "print(X[0])"
   ]
  },
  {
   "cell_type": "code",
   "execution_count": 121,
   "metadata": {
    "colab": {
     "base_uri": "https://localhost:8080/"
    },
    "executionInfo": {
     "elapsed": 21,
     "status": "ok",
     "timestamp": 1742319767682,
     "user": {
      "displayName": "Shivendra Devadhe",
      "userId": "17542011610081090060"
     },
     "user_tz": -330
    },
    "id": "PglkpFBeTmfA",
    "outputId": "adfe0194-96d0-4e2a-d5ed-3f0342d3565c"
   },
   "outputs": [
    {
     "name": "stdout",
     "output_type": "stream",
     "text": [
      "[1.00000000e+00 1.66000000e+03 4.00000000e+00 1.00000000e+00\n",
      " 1.37707182e+00 9.70000000e+01 5.39145006e+00]\n"
     ]
    }
   ],
   "source": [
    "# adding bias term to the feature vectors\n",
    "X_bias = np.c_[np.ones((len(X), 1)), X]\n",
    "print(X_bias[0])"
   ]
  },
  {
   "cell_type": "code",
   "execution_count": 122,
   "metadata": {
    "colab": {
     "base_uri": "https://localhost:8080/"
    },
    "executionInfo": {
     "elapsed": 27,
     "status": "ok",
     "timestamp": 1742319768191,
     "user": {
      "displayName": "Shivendra Devadhe",
      "userId": "17542011610081090060"
     },
     "user_tz": -330
    },
    "id": "DFKDz_1ZTmkh",
    "outputId": "9e3465a9-e903-4e61-e267-2240c8274872"
   },
   "outputs": [
    {
     "name": "stdout",
     "output_type": "stream",
     "text": [
      "[[0.43663346]\n",
      " [0.7737017 ]\n",
      " [0.87267302]\n",
      " [0.66878958]\n",
      " [0.00716458]\n",
      " [0.74216979]\n",
      " [0.89972738]]\n"
     ]
    }
   ],
   "source": [
    "# defining parameter vector\n",
    "theta = np.random.rand(len(X_bias[0])).reshape(-1, 1)\n",
    "print(theta)"
   ]
  },
  {
   "cell_type": "code",
   "execution_count": 123,
   "metadata": {
    "executionInfo": {
     "elapsed": 12,
     "status": "ok",
     "timestamp": 1742319769176,
     "user": {
      "displayName": "Shivendra Devadhe",
      "userId": "17542011610081090060"
     },
     "user_tz": -330
    },
    "id": "qU2kqPI2TmqB"
   },
   "outputs": [],
   "source": [
    "# defining hyperparameters\n",
    "epoch = 100"
   ]
  },
  {
   "cell_type": "code",
   "execution_count": 124,
   "metadata": {
    "executionInfo": {
     "elapsed": 4,
     "status": "ok",
     "timestamp": 1742319770064,
     "user": {
      "displayName": "Shivendra Devadhe",
      "userId": "17542011610081090060"
     },
     "user_tz": -330
    },
    "id": "a6X5ZpcgTmvj"
   },
   "outputs": [],
   "source": [
    "# defining hypothesis\n",
    "def hypo(theta, X):\n",
    "    return X @ theta"
   ]
  },
  {
   "cell_type": "code",
   "execution_count": 132,
   "metadata": {
    "colab": {
     "base_uri": "https://localhost:8080/"
    },
    "executionInfo": {
     "elapsed": 28,
     "status": "ok",
     "timestamp": 1742319776658,
     "user": {
      "displayName": "Shivendra Devadhe",
      "userId": "17542011610081090060"
     },
     "user_tz": -330
    },
    "id": "32ppvvzyTm1D",
    "outputId": "da6ae22b-f75b-4fdd-d0f3-41d7e9aee4ae"
   },
   "outputs": [
    {
     "name": "stdout",
     "output_type": "stream",
     "text": [
      "[[0.43665713]\n",
      " [0.8541232 ]\n",
      " [0.8727434 ]\n",
      " [0.66883678]\n",
      " [0.00718896]\n",
      " [0.74334268]\n",
      " [0.90009033]]\n"
     ]
    }
   ],
   "source": [
    "# BGD\n",
    "learning_rate = 1e-10\n",
    "theta_b = theta\n",
    "\n",
    "for _ in range(epoch):\n",
    "    error = (Y - hypo(theta_b, X_bias))\n",
    "    gradient = (1/len(X_bias)) * (X_bias.T @ error)\n",
    "    theta_b = theta_b - learning_rate * gradient\n",
    "\n",
    "print(theta_b)"
   ]
  },
  {
   "cell_type": "code",
   "execution_count": 133,
   "metadata": {
    "colab": {
     "base_uri": "https://localhost:8080/"
    },
    "executionInfo": {
     "elapsed": 8940,
     "status": "ok",
     "timestamp": 1742319786477,
     "user": {
      "displayName": "Shivendra Devadhe",
      "userId": "17542011610081090060"
     },
     "user_tz": -330
    },
    "id": "4flQyxpKTm6a",
    "outputId": "52c38170-9523-428b-8248-19ee9c0ec4aa"
   },
   "outputs": [
    {
     "name": "stdout",
     "output_type": "stream",
     "text": [
      "[[0.43633773]\n",
      " [0.00118926]\n",
      " [0.8717962 ]\n",
      " [0.66820598]\n",
      " [0.00687409]\n",
      " [0.72127593]\n",
      " [0.89443017]]\n"
     ]
    }
   ],
   "source": [
    "# SGD\n",
    "learning_rate = 0.00000000001\n",
    "theta_s = theta\n",
    "\n",
    "for _ in range(epoch):\n",
    "    for i in range(len(X_bias)):\n",
    "        xi = X_bias[i:i+1]\n",
    "        yi = Y[i]\n",
    "        error = yi - hypo(theta_s, xi)\n",
    "        gradient = -xi.T * error\n",
    "        theta_s = theta_s - learning_rate * gradient\n",
    "\n",
    "print(theta_s)"
   ]
  },
  {
   "cell_type": "code",
   "execution_count": 134,
   "metadata": {
    "colab": {
     "base_uri": "https://localhost:8080/"
    },
    "executionInfo": {
     "elapsed": 23,
     "status": "ok",
     "timestamp": 1742319787704,
     "user": {
      "displayName": "Shivendra Devadhe",
      "userId": "17542011610081090060"
     },
     "user_tz": -330
    },
    "id": "xfZCwXsWTnAE",
    "outputId": "70d8d984-0848-409a-b622-835ca0fe8a5e"
   },
   "outputs": [
    {
     "name": "stdout",
     "output_type": "stream",
     "text": [
      "[[0.43663346]\n",
      " [0.7737017 ]\n",
      " [0.87267302]\n",
      " [0.66878958]\n",
      " [0.00716458]\n",
      " [0.74216979]\n",
      " [0.89972738]]\n"
     ]
    }
   ],
   "source": [
    "# Normal Equation\n",
    "theta_ne = np.linalg.inv(X_bias.T @ X_bias) @ (X_bias.T @ Y)\n",
    "print(theta)"
   ]
  },
  {
   "cell_type": "code",
   "execution_count": 135,
   "metadata": {
    "colab": {
     "base_uri": "https://localhost:8080/"
    },
    "executionInfo": {
     "elapsed": 22,
     "status": "ok",
     "timestamp": 1742319789385,
     "user": {
      "displayName": "Shivendra Devadhe",
      "userId": "17542011610081090060"
     },
     "user_tz": -330
    },
    "id": "xK_ttgitTnFR",
    "outputId": "acb57672-8722-4c99-fa24-37508dd1bb1f"
   },
   "outputs": [
    {
     "name": "stdout",
     "output_type": "stream",
     "text": [
      "Normal Equation:  -0.15134502064863814\n",
      "SGD:  -7.634428003343904\n",
      "BGD:  -2427.2930592626735\n"
     ]
    }
   ],
   "source": [
    "# fetching test set\n",
    "df_test = pd.read_csv(\"/content/drive/MyDrive/ML/house_price/housing_prices_test.csv\")\n",
    "Y = df_test[\"Price\"].to_numpy().reshape(-1, 1)\n",
    "X_test = df_test.drop(columns=[\"Price\"]).to_numpy()\n",
    "X_test = np.c_[np.ones((len(X_test), 1)), X_test]\n",
    "print(\"Normal Equation: \", np.mean((Y/10000) - hypo(theta_ne, X_test)))\n",
    "print(\"SGD: \", np.mean((Y/10000) - hypo(theta_s, X_test)))\n",
    "print(\"BGD: \", np.mean((Y/10000) - hypo(theta_b, X_test)))"
   ]
  },
  {
   "cell_type": "code",
   "execution_count": 114,
   "metadata": {
    "executionInfo": {
     "elapsed": 5,
     "status": "ok",
     "timestamp": 1742319737586,
     "user": {
      "displayName": "Shivendra Devadhe",
      "userId": "17542011610081090060"
     },
     "user_tz": -330
    },
    "id": "T5V5THvOTnKf"
   },
   "outputs": [],
   "source": []
  }
 ],
 "metadata": {
  "accelerator": "GPU",
  "colab": {
   "authorship_tag": "ABX9TyPAYuT9gVD6hr04V3Ba3ImO",
   "gpuType": "T4",
   "mount_file_id": "15kHHOGDIlWoomsF6Z2TwRc3BDBIwFLQ0",
   "provenance": []
  },
  "kernelspec": {
   "display_name": "Python 3 (ipykernel)",
   "language": "python",
   "name": "python3"
  },
  "language_info": {
   "codemirror_mode": {
    "name": "ipython",
    "version": 3
   },
   "file_extension": ".py",
   "mimetype": "text/x-python",
   "name": "python",
   "nbconvert_exporter": "python",
   "pygments_lexer": "ipython3",
   "version": "3.13.2"
  }
 },
 "nbformat": 4,
 "nbformat_minor": 4
}
